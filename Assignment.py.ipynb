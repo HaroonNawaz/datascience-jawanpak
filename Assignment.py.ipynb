{
 "cells": [
  {
   "cell_type": "code",
   "execution_count": 9,
   "metadata": {},
   "outputs": [
    {
     "name": "stdout",
     "output_type": "stream",
     "text": [
      "Twinkle, twinkle, little start,\n",
      "\t How! wonder what you are!\n",
      "\t\t Up above the world so high\n",
      "\t\t Like a diamond in the sky\n",
      "Twinkle, twinkle, little star\n",
      "\t How! wonder what you are!\n"
     ]
    }
   ],
   "source": [
    "print(\"Twinkle, twinkle, little start,\")\n",
    "print(\"\\t How! wonder what you are!\")\n",
    "print(\"\\t\\t Up above the world so high\")\n",
    "print(\"\\t\\t Like a diamond in the sky\")\n",
    "print(\"Twinkle, twinkle, little star\")\n",
    "print(\"\\t How! wonder what you are!\")"
   ]
  },
  {
   "cell_type": "code",
   "execution_count": 16,
   "metadata": {},
   "outputs": [
    {
     "name": "stdout",
     "output_type": "stream",
     "text": [
      "3.8.5 (default, Sep  3 2020, 21:29:08) [MSC v.1916 64 bit (AMD64)]\n"
     ]
    }
   ],
   "source": [
    "import sys\n",
    "print(sys.version)"
   ]
  },
  {
   "cell_type": "code",
   "execution_count": 21,
   "metadata": {},
   "outputs": [
    {
     "name": "stdout",
     "output_type": "stream",
     "text": [
      "2022-01-03 22:50:11.862903\n"
     ]
    }
   ],
   "source": [
    "import datetime\n",
    "print(datetime.datetime.now())"
   ]
  },
  {
   "cell_type": "code",
   "execution_count": 36,
   "metadata": {},
   "outputs": [
    {
     "name": "stdout",
     "output_type": "stream",
     "text": [
      "Input radius for the circle: 4\n",
      "Area of the circle is  50.24\n"
     ]
    }
   ],
   "source": [
    "pi=3.14\n",
    "radius=float(input(\"Input radius for the circle: \"))\n",
    "area=pi * radius * radius\n",
    "print(\"Area of the circle is \",area)"
   ]
  },
  {
   "cell_type": "code",
   "execution_count": 40,
   "metadata": {},
   "outputs": [
    {
     "name": "stdout",
     "output_type": "stream",
     "text": [
      "Please insert your First Name:Haroon\n",
      "Please insert your Last Name Nawaz\n",
      "zawaN nooraH\n"
     ]
    }
   ],
   "source": [
    "first_name = input(\"Please insert your First Name:\")\n",
    "last_name = input(\"Please insert your Last Name \")\n",
    "\n",
    "full_name = first_name +\" \"+ last_name\n",
    "revers = full_name [::-1]\n",
    "print (revers)"
   ]
  },
  {
   "cell_type": "code",
   "execution_count": 42,
   "metadata": {},
   "outputs": [
    {
     "name": "stdout",
     "output_type": "stream",
     "text": [
      "Please insert string one Hello\n",
      "Please insert start twoWorld\n",
      "Hello World\n"
     ]
    }
   ],
   "source": [
    "input_one = input(\"Please insert string one \")\n",
    "input_second = input(\"Please insert start two\")\n",
    "\n",
    "print(input_one +\" \"+ input_second)"
   ]
  },
  {
   "cell_type": "code",
   "execution_count": null,
   "metadata": {},
   "outputs": [],
   "source": []
  }
 ],
 "metadata": {
  "kernelspec": {
   "display_name": "Python 3",
   "language": "python",
   "name": "python3"
  },
  "language_info": {
   "codemirror_mode": {
    "name": "ipython",
    "version": 3
   },
   "file_extension": ".py",
   "mimetype": "text/x-python",
   "name": "python",
   "nbconvert_exporter": "python",
   "pygments_lexer": "ipython3",
   "version": "3.8.5"
  }
 },
 "nbformat": 4,
 "nbformat_minor": 4
}
